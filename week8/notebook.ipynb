{
 "cells": [
  {
   "cell_type": "markdown",
   "id": "dcab0d71",
   "metadata": {},
   "source": [
    "### Imports"
   ]
  },
  {
   "cell_type": "code",
   "execution_count": 1,
   "id": "91299371",
   "metadata": {},
   "outputs": [
    {
     "name": "stderr",
     "output_type": "stream",
     "text": [
      "2022-11-11 10:55:08.947056: I tensorflow/core/util/util.cc:169] oneDNN custom operations are on. You may see slightly different numerical results due to floating-point round-off errors from different computation orders. To turn them off, set the environment variable `TF_ENABLE_ONEDNN_OPTS=0`.\n"
     ]
    }
   ],
   "source": [
    "import numpy as np\n",
    "import matplotlib.pyplot as plt\n",
    "\n",
    "import tensorflow as tf\n",
    "from tensorflow import keras\n",
    "from tensorflow.keras.preprocessing.image import ImageDataGenerator"
   ]
  },
  {
   "cell_type": "markdown",
   "id": "e6218a0b",
   "metadata": {},
   "source": [
    "#### Congifuring model"
   ]
  },
  {
   "cell_type": "code",
   "execution_count": 2,
   "id": "32ac8880",
   "metadata": {},
   "outputs": [
    {
     "name": "stderr",
     "output_type": "stream",
     "text": [
      "2022-11-11 10:55:10.670377: I tensorflow/stream_executor/cuda/cuda_gpu_executor.cc:975] successful NUMA node read from SysFS had negative value (-1), but there must be at least one NUMA node, so returning NUMA node zero\n",
      "2022-11-11 10:55:10.677660: I tensorflow/stream_executor/cuda/cuda_gpu_executor.cc:975] successful NUMA node read from SysFS had negative value (-1), but there must be at least one NUMA node, so returning NUMA node zero\n",
      "2022-11-11 10:55:10.678320: I tensorflow/stream_executor/cuda/cuda_gpu_executor.cc:975] successful NUMA node read from SysFS had negative value (-1), but there must be at least one NUMA node, so returning NUMA node zero\n",
      "2022-11-11 10:55:10.679307: I tensorflow/core/platform/cpu_feature_guard.cc:193] This TensorFlow binary is optimized with oneAPI Deep Neural Network Library (oneDNN) to use the following CPU instructions in performance-critical operations:  AVX2 AVX512F AVX512_VNNI FMA\n",
      "To enable them in other operations, rebuild TensorFlow with the appropriate compiler flags.\n",
      "2022-11-11 10:55:10.679701: I tensorflow/stream_executor/cuda/cuda_gpu_executor.cc:975] successful NUMA node read from SysFS had negative value (-1), but there must be at least one NUMA node, so returning NUMA node zero\n",
      "2022-11-11 10:55:10.680301: I tensorflow/stream_executor/cuda/cuda_gpu_executor.cc:975] successful NUMA node read from SysFS had negative value (-1), but there must be at least one NUMA node, so returning NUMA node zero\n",
      "2022-11-11 10:55:10.680848: I tensorflow/stream_executor/cuda/cuda_gpu_executor.cc:975] successful NUMA node read from SysFS had negative value (-1), but there must be at least one NUMA node, so returning NUMA node zero\n",
      "2022-11-11 10:55:11.298288: I tensorflow/stream_executor/cuda/cuda_gpu_executor.cc:975] successful NUMA node read from SysFS had negative value (-1), but there must be at least one NUMA node, so returning NUMA node zero\n",
      "2022-11-11 10:55:11.298940: I tensorflow/stream_executor/cuda/cuda_gpu_executor.cc:975] successful NUMA node read from SysFS had negative value (-1), but there must be at least one NUMA node, so returning NUMA node zero\n",
      "2022-11-11 10:55:11.299551: I tensorflow/stream_executor/cuda/cuda_gpu_executor.cc:975] successful NUMA node read from SysFS had negative value (-1), but there must be at least one NUMA node, so returning NUMA node zero\n",
      "2022-11-11 10:55:11.300080: I tensorflow/core/common_runtime/gpu/gpu_device.cc:1532] Created device /job:localhost/replica:0/task:0/device:GPU:0 with 13795 MB memory:  -> device: 0, name: Tesla T4, pci bus id: 0000:00:1e.0, compute capability: 7.5\n"
     ]
    }
   ],
   "source": [
    "model = tf.keras.Sequential()\n",
    "model.add(tf.keras.Input(shape=(150,150,3)))\n",
    "model.add(tf.keras.layers.Conv2D(32, (3,3), activation='relu', input_shape=(150,150,3)))\n",
    "model.add(tf.keras.layers.MaxPooling2D((2,2)))\n",
    "model.add(tf.keras.layers.Flatten())\n",
    "model.add(tf.keras.layers.Dense(64, activation='relu'))\n",
    "model.add(tf.keras.layers.Dense(1, activation='sigmoid'))\n",
    "\n",
    "optimizer = tf.keras.optimizers.SGD(learning_rate=0.002, momentum=0.8)\n",
    "loss = tf.keras.losses.BinaryCrossentropy()\n",
    "\n",
    "model.compile(\n",
    "    optimizer=optimizer,\n",
    "    loss=loss,\n",
    "    metrics=['accuracy']\n",
    ")\n"
   ]
  },
  {
   "cell_type": "markdown",
   "id": "9acd2e68",
   "metadata": {},
   "source": [
    "#### Q2"
   ]
  },
  {
   "cell_type": "code",
   "execution_count": 3,
   "id": "c1feb192",
   "metadata": {},
   "outputs": [
    {
     "name": "stdout",
     "output_type": "stream",
     "text": [
      "Model: \"sequential\"\n",
      "_________________________________________________________________\n",
      " Layer (type)                Output Shape              Param #   \n",
      "=================================================================\n",
      " conv2d (Conv2D)             (None, 148, 148, 32)      896       \n",
      "                                                                 \n",
      " max_pooling2d (MaxPooling2D  (None, 74, 74, 32)       0         \n",
      " )                                                               \n",
      "                                                                 \n",
      " flatten (Flatten)           (None, 175232)            0         \n",
      "                                                                 \n",
      " dense (Dense)               (None, 64)                11214912  \n",
      "                                                                 \n",
      " dense_1 (Dense)             (None, 1)                 65        \n",
      "                                                                 \n",
      "=================================================================\n",
      "Total params: 11,215,873\n",
      "Trainable params: 11,215,873\n",
      "Non-trainable params: 0\n",
      "_________________________________________________________________\n"
     ]
    }
   ],
   "source": [
    "model.summary()"
   ]
  },
  {
   "cell_type": "markdown",
   "id": "c93d3ad5",
   "metadata": {},
   "source": [
    "#### Data Generation and Model Fitting"
   ]
  },
  {
   "cell_type": "code",
   "execution_count": 4,
   "id": "6b88cfc7",
   "metadata": {},
   "outputs": [],
   "source": [
    "train_generator = ImageDataGenerator(rescale=1./255)\n",
    "val_generator = ImageDataGenerator(rescale=1./255)"
   ]
  },
  {
   "cell_type": "code",
   "execution_count": 5,
   "id": "09e12343",
   "metadata": {},
   "outputs": [
    {
     "name": "stdout",
     "output_type": "stream",
     "text": [
      "Found 1594 images belonging to 2 classes.\n",
      "Found 394 images belonging to 2 classes.\n"
     ]
    }
   ],
   "source": [
    "train_data = train_generator.flow_from_directory(\n",
    "    './train',\n",
    "    batch_size=20,\n",
    "    shuffle=True,\n",
    "    class_mode='binary',\n",
    "    target_size=(150, 150)\n",
    ")\n",
    "\n",
    "val_data = val_generator.flow_from_directory(\n",
    "    './test',\n",
    "    batch_size=20,\n",
    "    shuffle=True,\n",
    "    class_mode='binary',\n",
    "    target_size=(150, 150)\n",
    ")"
   ]
  },
  {
   "cell_type": "code",
   "execution_count": 6,
   "id": "a631456d",
   "metadata": {},
   "outputs": [
    {
     "name": "stdout",
     "output_type": "stream",
     "text": [
      "Epoch 1/10\n"
     ]
    },
    {
     "name": "stderr",
     "output_type": "stream",
     "text": [
      "2022-11-11 10:55:13.097681: I tensorflow/stream_executor/cuda/cuda_dnn.cc:384] Loaded cuDNN version 8100\n",
      "2022-11-11 10:55:13.829856: I tensorflow/core/platform/default/subprocess.cc:304] Start cannot spawn child process: No such file or directory\n",
      "2022-11-11 10:55:13.830747: I tensorflow/core/platform/default/subprocess.cc:304] Start cannot spawn child process: No such file or directory\n",
      "2022-11-11 10:55:13.830784: W tensorflow/stream_executor/gpu/asm_compiler.cc:80] Couldn't get ptxas version string: INTERNAL: Couldn't invoke ptxas --version\n",
      "2022-11-11 10:55:13.831666: I tensorflow/core/platform/default/subprocess.cc:304] Start cannot spawn child process: No such file or directory\n",
      "2022-11-11 10:55:13.831754: W tensorflow/stream_executor/gpu/redzone_allocator.cc:314] INTERNAL: Failed to launch ptxas\n",
      "Relying on driver to perform ptx compilation. \n",
      "Modify $PATH to customize ptxas location.\n",
      "This message will be only logged once.\n"
     ]
    },
    {
     "name": "stdout",
     "output_type": "stream",
     "text": [
      "80/80 [==============================] - 11s 107ms/step - loss: 0.6652 - accuracy: 0.5941 - val_loss: 0.6127 - val_accuracy: 0.6650\n",
      "Epoch 2/10\n",
      "80/80 [==============================] - 8s 105ms/step - loss: 0.5466 - accuracy: 0.7415 - val_loss: 0.4783 - val_accuracy: 0.8173\n",
      "Epoch 3/10\n",
      "80/80 [==============================] - 8s 105ms/step - loss: 0.4496 - accuracy: 0.8061 - val_loss: 0.4260 - val_accuracy: 0.7893\n",
      "Epoch 4/10\n",
      "80/80 [==============================] - 8s 104ms/step - loss: 0.4022 - accuracy: 0.8312 - val_loss: 0.3746 - val_accuracy: 0.8452\n",
      "Epoch 5/10\n",
      "80/80 [==============================] - 8s 105ms/step - loss: 0.3453 - accuracy: 0.8607 - val_loss: 0.3859 - val_accuracy: 0.8274\n",
      "Epoch 6/10\n",
      "80/80 [==============================] - 8s 105ms/step - loss: 0.3267 - accuracy: 0.8639 - val_loss: 0.3381 - val_accuracy: 0.8579\n",
      "Epoch 7/10\n",
      "80/80 [==============================] - 8s 106ms/step - loss: 0.2937 - accuracy: 0.8883 - val_loss: 0.3407 - val_accuracy: 0.8452\n",
      "Epoch 8/10\n",
      "80/80 [==============================] - 8s 104ms/step - loss: 0.2619 - accuracy: 0.9040 - val_loss: 0.3490 - val_accuracy: 0.8350\n",
      "Epoch 9/10\n",
      "80/80 [==============================] - 8s 106ms/step - loss: 0.2295 - accuracy: 0.9109 - val_loss: 0.2948 - val_accuracy: 0.8731\n",
      "Epoch 10/10\n",
      "80/80 [==============================] - 8s 105ms/step - loss: 0.2063 - accuracy: 0.9279 - val_loss: 0.3128 - val_accuracy: 0.8604\n"
     ]
    }
   ],
   "source": [
    "history = model.fit(train_data, epochs=10, validation_data=val_data)"
   ]
  },
  {
   "cell_type": "markdown",
   "id": "758dc8d9",
   "metadata": {},
   "source": [
    "#### Q3"
   ]
  },
  {
   "cell_type": "code",
   "execution_count": 7,
   "id": "625baae0",
   "metadata": {},
   "outputs": [
    {
     "data": {
      "text/plain": [
       "0.86"
      ]
     },
     "execution_count": 7,
     "metadata": {},
     "output_type": "execute_result"
    }
   ],
   "source": [
    "round(np.median(history.history['accuracy']), 2)"
   ]
  },
  {
   "cell_type": "markdown",
   "id": "44bef61e",
   "metadata": {},
   "source": [
    "#### Q4"
   ]
  },
  {
   "cell_type": "code",
   "execution_count": 8,
   "id": "0ab72d6e",
   "metadata": {},
   "outputs": [
    {
     "data": {
      "text/plain": [
       "0.14"
      ]
     },
     "execution_count": 8,
     "metadata": {},
     "output_type": "execute_result"
    }
   ],
   "source": [
    "round(np.std(history.history['loss']), 2)"
   ]
  },
  {
   "cell_type": "markdown",
   "id": "2c0de113",
   "metadata": {},
   "source": [
    "#### Augmented Data"
   ]
  },
  {
   "cell_type": "code",
   "execution_count": 9,
   "id": "e12f20ae",
   "metadata": {},
   "outputs": [
    {
     "name": "stdout",
     "output_type": "stream",
     "text": [
      "Found 1594 images belonging to 2 classes.\n"
     ]
    }
   ],
   "source": [
    "train_generator = ImageDataGenerator(\n",
    "    rescale=1./255,\n",
    "    rotation_range=40,\n",
    "    width_shift_range=0.2,\n",
    "    height_shift_range=0.2,\n",
    "    shear_range=0.2,\n",
    "    zoom_range=0.2,\n",
    "    horizontal_flip=True,\n",
    "    fill_mode='nearest' \n",
    ")\n",
    "\n",
    "train_data_augmented = train_generator.flow_from_directory(\n",
    "    './train',\n",
    "    batch_size=20,\n",
    "    shuffle=True,\n",
    "    class_mode='binary',\n",
    "    target_size=(150, 150)\n",
    ")"
   ]
  },
  {
   "cell_type": "code",
   "execution_count": 10,
   "id": "00115f92",
   "metadata": {},
   "outputs": [
    {
     "name": "stdout",
     "output_type": "stream",
     "text": [
      "Epoch 1/10\n",
      "80/80 [==============================] - 15s 189ms/step - loss: 0.4479 - accuracy: 0.7974 - val_loss: 0.2966 - val_accuracy: 0.8883\n",
      "Epoch 2/10\n",
      "80/80 [==============================] - 15s 188ms/step - loss: 0.4266 - accuracy: 0.8093 - val_loss: 0.6477 - val_accuracy: 0.6954\n",
      "Epoch 3/10\n",
      "80/80 [==============================] - 15s 188ms/step - loss: 0.4239 - accuracy: 0.8068 - val_loss: 0.6025 - val_accuracy: 0.7360\n",
      "Epoch 4/10\n",
      "80/80 [==============================] - 15s 186ms/step - loss: 0.3871 - accuracy: 0.8199 - val_loss: 0.3947 - val_accuracy: 0.8071\n",
      "Epoch 5/10\n",
      "80/80 [==============================] - 15s 186ms/step - loss: 0.4038 - accuracy: 0.8174 - val_loss: 0.3269 - val_accuracy: 0.8655\n",
      "Epoch 6/10\n",
      "80/80 [==============================] - 15s 187ms/step - loss: 0.3781 - accuracy: 0.8338 - val_loss: 0.3634 - val_accuracy: 0.8325\n",
      "Epoch 7/10\n",
      "80/80 [==============================] - 15s 186ms/step - loss: 0.3652 - accuracy: 0.8488 - val_loss: 0.4091 - val_accuracy: 0.8198\n",
      "Epoch 8/10\n",
      "80/80 [==============================] - 15s 187ms/step - loss: 0.3654 - accuracy: 0.8444 - val_loss: 0.4339 - val_accuracy: 0.8046\n",
      "Epoch 9/10\n",
      "80/80 [==============================] - 15s 188ms/step - loss: 0.3638 - accuracy: 0.8375 - val_loss: 0.4539 - val_accuracy: 0.8020\n",
      "Epoch 10/10\n",
      "80/80 [==============================] - 15s 187ms/step - loss: 0.3381 - accuracy: 0.8507 - val_loss: 0.5291 - val_accuracy: 0.7817\n"
     ]
    }
   ],
   "source": [
    "history_augmented = model.fit(train_data_augmented, epochs=10, validation_data=val_data)"
   ]
  },
  {
   "cell_type": "markdown",
   "id": "70df2a4c",
   "metadata": {},
   "source": [
    "#### Q5"
   ]
  },
  {
   "cell_type": "code",
   "execution_count": 11,
   "id": "a87c6aad",
   "metadata": {},
   "outputs": [
    {
     "data": {
      "text/plain": [
       "0.45"
      ]
     },
     "execution_count": 11,
     "metadata": {},
     "output_type": "execute_result"
    }
   ],
   "source": [
    "round(np.mean(history_augmented.history['val_loss']), 2)"
   ]
  },
  {
   "cell_type": "markdown",
   "id": "ca19ef69",
   "metadata": {},
   "source": [
    "#### Q6"
   ]
  },
  {
   "cell_type": "code",
   "execution_count": 12,
   "id": "86246f92",
   "metadata": {},
   "outputs": [
    {
     "data": {
      "text/plain": [
       "0.81"
      ]
     },
     "execution_count": 12,
     "metadata": {},
     "output_type": "execute_result"
    }
   ],
   "source": [
    "round(np.average(history_augmented.history['val_accuracy'][5:]), 2)"
   ]
  },
  {
   "cell_type": "code",
   "execution_count": null,
   "id": "3841eec1",
   "metadata": {},
   "outputs": [],
   "source": []
  }
 ],
 "metadata": {
  "kernelspec": {
   "display_name": "Python 3.10.6 ('mlzoomcamp': venv)",
   "language": "python",
   "name": "python3"
  },
  "language_info": {
   "codemirror_mode": {
    "name": "ipython",
    "version": 3
   },
   "file_extension": ".py",
   "mimetype": "text/x-python",
   "name": "python",
   "nbconvert_exporter": "python",
   "pygments_lexer": "ipython3",
   "version": "3.10.6"
  },
  "vscode": {
   "interpreter": {
    "hash": "b23d69b23c9d5aa09947d4f390e04da998f1fadd8e280dcd1448f89351553a05"
   }
  }
 },
 "nbformat": 4,
 "nbformat_minor": 5
}
